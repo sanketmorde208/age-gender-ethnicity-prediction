{
 "cells": [
  {
   "cell_type": "code",
   "execution_count": 1,
   "id": "8b92c248",
   "metadata": {
    "_cell_guid": "b1076dfc-b9ad-4769-8c92-a6c4dae69d19",
    "_uuid": "8f2839f25d086af736a60e9eeb907d3b93b6e0e5",
    "execution": {
     "iopub.execute_input": "2024-12-05T12:32:34.228872Z",
     "iopub.status.busy": "2024-12-05T12:32:34.228446Z",
     "iopub.status.idle": "2024-12-05T12:32:36.963639Z",
     "shell.execute_reply": "2024-12-05T12:32:36.962327Z"
    },
    "papermill": {
     "duration": 2.748438,
     "end_time": "2024-12-05T12:32:36.967708",
     "exception": false,
     "start_time": "2024-12-05T12:32:34.219270",
     "status": "completed"
    },
    "tags": []
   },
   "outputs": [],
   "source": [
    "import pandas as pd \n",
    "import numpy as np \n",
    "import matplotlib.pyplot as plt\n",
    "import seaborn as sns\n",
    "import warnings\n",
    "warnings.filterwarnings('ignore')"
   ]
  },
  {
   "cell_type": "code",
   "execution_count": 2,
   "id": "30d7b1b7",
   "metadata": {
    "execution": {
     "iopub.execute_input": "2024-12-05T12:32:36.989703Z",
     "iopub.status.busy": "2024-12-05T12:32:36.988590Z",
     "iopub.status.idle": "2024-12-05T12:32:42.657586Z",
     "shell.execute_reply": "2024-12-05T12:32:42.656285Z"
    },
    "papermill": {
     "duration": 5.680749,
     "end_time": "2024-12-05T12:32:42.660103",
     "exception": false,
     "start_time": "2024-12-05T12:32:36.979354",
     "status": "completed"
    },
    "tags": []
   },
   "outputs": [],
   "source": [
    "df=pd.read_csv('/kaggle/input/age-gender-and-ethnicity-face-data-csv/age_gender.csv')"
   ]
  },
  {
   "cell_type": "code",
   "execution_count": 3,
   "id": "8fa69578",
   "metadata": {
    "execution": {
     "iopub.execute_input": "2024-12-05T12:32:42.676413Z",
     "iopub.status.busy": "2024-12-05T12:32:42.676052Z",
     "iopub.status.idle": "2024-12-05T12:32:42.683520Z",
     "shell.execute_reply": "2024-12-05T12:32:42.682436Z"
    },
    "papermill": {
     "duration": 0.017483,
     "end_time": "2024-12-05T12:32:42.685585",
     "exception": false,
     "start_time": "2024-12-05T12:32:42.668102",
     "status": "completed"
    },
    "tags": []
   },
   "outputs": [
    {
     "data": {
      "text/plain": [
       "(23705, 5)"
      ]
     },
     "execution_count": 3,
     "metadata": {},
     "output_type": "execute_result"
    }
   ],
   "source": [
    "df.shape"
   ]
  },
  {
   "cell_type": "code",
   "execution_count": 4,
   "id": "28c53def",
   "metadata": {
    "execution": {
     "iopub.execute_input": "2024-12-05T12:32:42.700996Z",
     "iopub.status.busy": "2024-12-05T12:32:42.700613Z",
     "iopub.status.idle": "2024-12-05T12:32:42.737118Z",
     "shell.execute_reply": "2024-12-05T12:32:42.735805Z"
    },
    "papermill": {
     "duration": 0.04708,
     "end_time": "2024-12-05T12:32:42.739612",
     "exception": false,
     "start_time": "2024-12-05T12:32:42.692532",
     "status": "completed"
    },
    "tags": []
   },
   "outputs": [
    {
     "name": "stdout",
     "output_type": "stream",
     "text": [
      "<class 'pandas.core.frame.DataFrame'>\n",
      "RangeIndex: 23705 entries, 0 to 23704\n",
      "Data columns (total 5 columns):\n",
      " #   Column     Non-Null Count  Dtype \n",
      "---  ------     --------------  ----- \n",
      " 0   age        23705 non-null  int64 \n",
      " 1   ethnicity  23705 non-null  int64 \n",
      " 2   gender     23705 non-null  int64 \n",
      " 3   img_name   23705 non-null  object\n",
      " 4   pixels     23705 non-null  object\n",
      "dtypes: int64(3), object(2)\n",
      "memory usage: 926.1+ KB\n"
     ]
    }
   ],
   "source": [
    "df.info()"
   ]
  },
  {
   "cell_type": "code",
   "execution_count": 5,
   "id": "c0661bc1",
   "metadata": {
    "execution": {
     "iopub.execute_input": "2024-12-05T12:32:42.755796Z",
     "iopub.status.busy": "2024-12-05T12:32:42.755425Z",
     "iopub.status.idle": "2024-12-05T12:32:42.770031Z",
     "shell.execute_reply": "2024-12-05T12:32:42.768917Z"
    },
    "papermill": {
     "duration": 0.025115,
     "end_time": "2024-12-05T12:32:42.772375",
     "exception": false,
     "start_time": "2024-12-05T12:32:42.747260",
     "status": "completed"
    },
    "tags": []
   },
   "outputs": [
    {
     "data": {
      "text/html": [
       "<div>\n",
       "<style scoped>\n",
       "    .dataframe tbody tr th:only-of-type {\n",
       "        vertical-align: middle;\n",
       "    }\n",
       "\n",
       "    .dataframe tbody tr th {\n",
       "        vertical-align: top;\n",
       "    }\n",
       "\n",
       "    .dataframe thead th {\n",
       "        text-align: right;\n",
       "    }\n",
       "</style>\n",
       "<table border=\"1\" class=\"dataframe\">\n",
       "  <thead>\n",
       "    <tr style=\"text-align: right;\">\n",
       "      <th></th>\n",
       "      <th>age</th>\n",
       "      <th>ethnicity</th>\n",
       "      <th>gender</th>\n",
       "      <th>img_name</th>\n",
       "      <th>pixels</th>\n",
       "    </tr>\n",
       "  </thead>\n",
       "  <tbody>\n",
       "    <tr>\n",
       "      <th>0</th>\n",
       "      <td>1</td>\n",
       "      <td>2</td>\n",
       "      <td>0</td>\n",
       "      <td>20161219203650636.jpg.chip.jpg</td>\n",
       "      <td>129 128 128 126 127 130 133 135 139 142 145 14...</td>\n",
       "    </tr>\n",
       "    <tr>\n",
       "      <th>1</th>\n",
       "      <td>1</td>\n",
       "      <td>2</td>\n",
       "      <td>0</td>\n",
       "      <td>20161219222752047.jpg.chip.jpg</td>\n",
       "      <td>164 74 111 168 169 171 175 182 184 188 193 199...</td>\n",
       "    </tr>\n",
       "    <tr>\n",
       "      <th>2</th>\n",
       "      <td>1</td>\n",
       "      <td>2</td>\n",
       "      <td>0</td>\n",
       "      <td>20161219222832191.jpg.chip.jpg</td>\n",
       "      <td>67 70 71 70 69 67 70 79 90 103 116 132 145 155...</td>\n",
       "    </tr>\n",
       "    <tr>\n",
       "      <th>3</th>\n",
       "      <td>1</td>\n",
       "      <td>2</td>\n",
       "      <td>0</td>\n",
       "      <td>20161220144911423.jpg.chip.jpg</td>\n",
       "      <td>193 197 198 200 199 200 202 203 204 205 208 21...</td>\n",
       "    </tr>\n",
       "    <tr>\n",
       "      <th>4</th>\n",
       "      <td>1</td>\n",
       "      <td>2</td>\n",
       "      <td>0</td>\n",
       "      <td>20161220144914327.jpg.chip.jpg</td>\n",
       "      <td>202 205 209 210 209 209 210 211 212 214 218 21...</td>\n",
       "    </tr>\n",
       "  </tbody>\n",
       "</table>\n",
       "</div>"
      ],
      "text/plain": [
       "   age  ethnicity  gender                        img_name  \\\n",
       "0    1          2       0  20161219203650636.jpg.chip.jpg   \n",
       "1    1          2       0  20161219222752047.jpg.chip.jpg   \n",
       "2    1          2       0  20161219222832191.jpg.chip.jpg   \n",
       "3    1          2       0  20161220144911423.jpg.chip.jpg   \n",
       "4    1          2       0  20161220144914327.jpg.chip.jpg   \n",
       "\n",
       "                                              pixels  \n",
       "0  129 128 128 126 127 130 133 135 139 142 145 14...  \n",
       "1  164 74 111 168 169 171 175 182 184 188 193 199...  \n",
       "2  67 70 71 70 69 67 70 79 90 103 116 132 145 155...  \n",
       "3  193 197 198 200 199 200 202 203 204 205 208 21...  \n",
       "4  202 205 209 210 209 209 210 211 212 214 218 21...  "
      ]
     },
     "execution_count": 5,
     "metadata": {},
     "output_type": "execute_result"
    }
   ],
   "source": [
    "df.head()"
   ]
  },
  {
   "cell_type": "code",
   "execution_count": 6,
   "id": "33176597",
   "metadata": {
    "execution": {
     "iopub.execute_input": "2024-12-05T12:32:42.789568Z",
     "iopub.status.busy": "2024-12-05T12:32:42.788575Z",
     "iopub.status.idle": "2024-12-05T12:32:42.803971Z",
     "shell.execute_reply": "2024-12-05T12:32:42.802736Z"
    },
    "papermill": {
     "duration": 0.026119,
     "end_time": "2024-12-05T12:32:42.806201",
     "exception": false,
     "start_time": "2024-12-05T12:32:42.780082",
     "status": "completed"
    },
    "tags": []
   },
   "outputs": [
    {
     "data": {
      "text/plain": [
       "age          0\n",
       "ethnicity    0\n",
       "gender       0\n",
       "img_name     0\n",
       "pixels       0\n",
       "dtype: int64"
      ]
     },
     "execution_count": 6,
     "metadata": {},
     "output_type": "execute_result"
    }
   ],
   "source": [
    "df.isna().sum()"
   ]
  },
  {
   "cell_type": "code",
   "execution_count": 7,
   "id": "28640572",
   "metadata": {
    "execution": {
     "iopub.execute_input": "2024-12-05T12:32:42.824206Z",
     "iopub.status.busy": "2024-12-05T12:32:42.822931Z",
     "iopub.status.idle": "2024-12-05T12:32:42.840155Z",
     "shell.execute_reply": "2024-12-05T12:32:42.838887Z"
    },
    "papermill": {
     "duration": 0.028451,
     "end_time": "2024-12-05T12:32:42.842416",
     "exception": false,
     "start_time": "2024-12-05T12:32:42.813965",
     "status": "completed"
    },
    "tags": []
   },
   "outputs": [
    {
     "data": {
      "text/html": [
       "<div>\n",
       "<style scoped>\n",
       "    .dataframe tbody tr th:only-of-type {\n",
       "        vertical-align: middle;\n",
       "    }\n",
       "\n",
       "    .dataframe tbody tr th {\n",
       "        vertical-align: top;\n",
       "    }\n",
       "\n",
       "    .dataframe thead th {\n",
       "        text-align: right;\n",
       "    }\n",
       "</style>\n",
       "<table border=\"1\" class=\"dataframe\">\n",
       "  <thead>\n",
       "    <tr style=\"text-align: right;\">\n",
       "      <th></th>\n",
       "      <th>age</th>\n",
       "      <th>ethnicity</th>\n",
       "      <th>gender</th>\n",
       "      <th>img_name</th>\n",
       "      <th>pixels</th>\n",
       "    </tr>\n",
       "  </thead>\n",
       "  <tbody>\n",
       "    <tr>\n",
       "      <th>5367</th>\n",
       "      <td>24</td>\n",
       "      <td>0</td>\n",
       "      <td>1</td>\n",
       "      <td>20170116222814643.jpg.chip.jpg</td>\n",
       "      <td>26 39 74 122 160 184 188 200 207 209 214 220 2...</td>\n",
       "    </tr>\n",
       "    <tr>\n",
       "      <th>21293</th>\n",
       "      <td>65</td>\n",
       "      <td>1</td>\n",
       "      <td>0</td>\n",
       "      <td>20170116204818030.jpg.chip.jpg</td>\n",
       "      <td>80 80 85 86 95 89 89 84 70 70 86 89 86 86 88 8...</td>\n",
       "    </tr>\n",
       "    <tr>\n",
       "      <th>2032</th>\n",
       "      <td>16</td>\n",
       "      <td>3</td>\n",
       "      <td>1</td>\n",
       "      <td>20170104222158160.jpg.chip.jpg</td>\n",
       "      <td>16 11 11 11 17 30 46 52 62 64 66 67 63 62 72 8...</td>\n",
       "    </tr>\n",
       "    <tr>\n",
       "      <th>15703</th>\n",
       "      <td>40</td>\n",
       "      <td>1</td>\n",
       "      <td>1</td>\n",
       "      <td>20170113012648537.jpg.chip.jpg</td>\n",
       "      <td>8 7 5 7 14 15 11 11 8 17 9 8 4 10 15 12 17 23 ...</td>\n",
       "    </tr>\n",
       "    <tr>\n",
       "      <th>8290</th>\n",
       "      <td>26</td>\n",
       "      <td>0</td>\n",
       "      <td>1</td>\n",
       "      <td>20170105163250483.jpg.chip.jpg</td>\n",
       "      <td>175 137 133 145 157 131 100 96 170 223 227 225...</td>\n",
       "    </tr>\n",
       "  </tbody>\n",
       "</table>\n",
       "</div>"
      ],
      "text/plain": [
       "       age  ethnicity  gender                        img_name  \\\n",
       "5367    24          0       1  20170116222814643.jpg.chip.jpg   \n",
       "21293   65          1       0  20170116204818030.jpg.chip.jpg   \n",
       "2032    16          3       1  20170104222158160.jpg.chip.jpg   \n",
       "15703   40          1       1  20170113012648537.jpg.chip.jpg   \n",
       "8290    26          0       1  20170105163250483.jpg.chip.jpg   \n",
       "\n",
       "                                                  pixels  \n",
       "5367   26 39 74 122 160 184 188 200 207 209 214 220 2...  \n",
       "21293  80 80 85 86 95 89 89 84 70 70 86 89 86 86 88 8...  \n",
       "2032   16 11 11 11 17 30 46 52 62 64 66 67 63 62 72 8...  \n",
       "15703  8 7 5 7 14 15 11 11 8 17 9 8 4 10 15 12 17 23 ...  \n",
       "8290   175 137 133 145 157 131 100 96 170 223 227 225...  "
      ]
     },
     "execution_count": 7,
     "metadata": {},
     "output_type": "execute_result"
    }
   ],
   "source": [
    "df.sample(5)"
   ]
  },
  {
   "cell_type": "code",
   "execution_count": 8,
   "id": "fb0d7f3b",
   "metadata": {
    "execution": {
     "iopub.execute_input": "2024-12-05T12:32:42.860802Z",
     "iopub.status.busy": "2024-12-05T12:32:42.860406Z",
     "iopub.status.idle": "2024-12-05T12:32:42.869392Z",
     "shell.execute_reply": "2024-12-05T12:32:42.868398Z"
    },
    "papermill": {
     "duration": 0.020835,
     "end_time": "2024-12-05T12:32:42.871565",
     "exception": false,
     "start_time": "2024-12-05T12:32:42.850730",
     "status": "completed"
    },
    "tags": []
   },
   "outputs": [],
   "source": [
    "df.drop('img_name',axis=1,inplace=True)"
   ]
  },
  {
   "cell_type": "code",
   "execution_count": 9,
   "id": "cc91b444",
   "metadata": {
    "execution": {
     "iopub.execute_input": "2024-12-05T12:32:42.889776Z",
     "iopub.status.busy": "2024-12-05T12:32:42.888721Z",
     "iopub.status.idle": "2024-12-05T12:32:42.899664Z",
     "shell.execute_reply": "2024-12-05T12:32:42.898545Z"
    },
    "papermill": {
     "duration": 0.022489,
     "end_time": "2024-12-05T12:32:42.901867",
     "exception": false,
     "start_time": "2024-12-05T12:32:42.879378",
     "status": "completed"
    },
    "tags": []
   },
   "outputs": [
    {
     "data": {
      "text/plain": [
       "ethnicity\n",
       "0    10078\n",
       "1     4526\n",
       "3     3975\n",
       "2     3434\n",
       "4     1692\n",
       "Name: count, dtype: int64"
      ]
     },
     "execution_count": 9,
     "metadata": {},
     "output_type": "execute_result"
    }
   ],
   "source": [
    "df.ethnicity.value_counts()"
   ]
  },
  {
   "cell_type": "code",
   "execution_count": 10,
   "id": "1a82a6a1",
   "metadata": {
    "execution": {
     "iopub.execute_input": "2024-12-05T12:32:42.918337Z",
     "iopub.status.busy": "2024-12-05T12:32:42.917954Z",
     "iopub.status.idle": "2024-12-05T12:32:42.926709Z",
     "shell.execute_reply": "2024-12-05T12:32:42.925542Z"
    },
    "papermill": {
     "duration": 0.019605,
     "end_time": "2024-12-05T12:32:42.929032",
     "exception": false,
     "start_time": "2024-12-05T12:32:42.909427",
     "status": "completed"
    },
    "tags": []
   },
   "outputs": [
    {
     "data": {
      "text/plain": [
       "gender\n",
       "0    12391\n",
       "1    11314\n",
       "Name: count, dtype: int64"
      ]
     },
     "execution_count": 10,
     "metadata": {},
     "output_type": "execute_result"
    }
   ],
   "source": [
    "df.gender.value_counts()"
   ]
  },
  {
   "cell_type": "code",
   "execution_count": 11,
   "id": "957ee1f2",
   "metadata": {
    "execution": {
     "iopub.execute_input": "2024-12-05T12:32:42.946736Z",
     "iopub.status.busy": "2024-12-05T12:32:42.946339Z",
     "iopub.status.idle": "2024-12-05T12:32:43.548977Z",
     "shell.execute_reply": "2024-12-05T12:32:43.547829Z"
    },
    "papermill": {
     "duration": 0.614751,
     "end_time": "2024-12-05T12:32:43.551484",
     "exception": false,
     "start_time": "2024-12-05T12:32:42.936733",
     "status": "completed"
    },
    "tags": []
   },
   "outputs": [
    {
     "data": {
      "text/plain": [
       "<Axes: xlabel='age', ylabel='Count'>"
      ]
     },
     "execution_count": 11,
     "metadata": {},
     "output_type": "execute_result"
    },
    {
     "data": {
      "image/png": "[encoded data removed]",
      "text/plain": [
       "<Figure size 640x480 with 1 Axes>"
      ]
     },
     "metadata": {},
     "output_type": "display_data"
    }
   ],
   "source": [
    "sns.histplot(data=df,x='age',kde=True)"
   ]
  },
  {
   "cell_type": "code",
   "execution_count": 12,
   "id": "787ab5c8",
   "metadata": {
    "execution": {
     "iopub.execute_input": "2024-12-05T12:32:43.569618Z",
     "iopub.status.busy": "2024-12-05T12:32:43.569219Z",
     "iopub.status.idle": "2024-12-05T12:32:44.063214Z",
     "shell.execute_reply": "2024-12-05T12:32:44.061845Z"
    },
    "papermill": {
     "duration": 0.505744,
     "end_time": "2024-12-05T12:32:44.065755",
     "exception": false,
     "start_time": "2024-12-05T12:32:43.560011",
     "status": "completed"
    },
    "tags": []
   },
   "outputs": [
    {
     "data": {
      "image/png": "[encoded data removed]",
      "text/plain": [
       "<Figure size 1800x2000 with 2 Axes>"
      ]
     },
     "metadata": {},
     "output_type": "display_data"
    }
   ],
   "source": [
    "categoricals=['ethnicity','gender']\n",
    "fig,axes=plt.subplots(2,1,figsize=(18,20))\n",
    "for i, col in enumerate(categoricals):\n",
    "    sns.histplot(data=df,x=col,ax=axes[i])\n",
    "    axes[i].set_yticks(df[col].value_counts())\n",
    "plt.show()\n"
   ]
  },
  {
   "cell_type": "code",
   "execution_count": 13,
   "id": "bc225d66",
   "metadata": {
    "execution": {
     "iopub.execute_input": "2024-12-05T12:32:44.085667Z",
     "iopub.status.busy": "2024-12-05T12:32:44.085288Z",
     "iopub.status.idle": "2024-12-05T12:32:44.092927Z",
     "shell.execute_reply": "2024-12-05T12:32:44.091882Z"
    },
    "papermill": {
     "duration": 0.019852,
     "end_time": "2024-12-05T12:32:44.095096",
     "exception": false,
     "start_time": "2024-12-05T12:32:44.075244",
     "status": "completed"
    },
    "tags": []
   },
   "outputs": [
    {
     "data": {
      "text/plain": [
       "2304"
      ]
     },
     "execution_count": 13,
     "metadata": {},
     "output_type": "execute_result"
    }
   ],
   "source": [
    "len(df.pixels[0].split(' '))"
   ]
  },
  {
   "cell_type": "code",
   "execution_count": 14,
   "id": "d7fd9926",
   "metadata": {
    "execution": {
     "iopub.execute_input": "2024-12-05T12:32:44.114097Z",
     "iopub.status.busy": "2024-12-05T12:32:44.113706Z",
     "iopub.status.idle": "2024-12-05T12:32:44.120719Z",
     "shell.execute_reply": "2024-12-05T12:32:44.119605Z"
    },
    "papermill": {
     "duration": 0.018829,
     "end_time": "2024-12-05T12:32:44.122791",
     "exception": false,
     "start_time": "2024-12-05T12:32:44.103962",
     "status": "completed"
    },
    "tags": []
   },
   "outputs": [
    {
     "data": {
      "text/plain": [
       "48.0"
      ]
     },
     "execution_count": 14,
     "metadata": {},
     "output_type": "execute_result"
    }
   ],
   "source": [
    "np.sqrt(2304)"
   ]
  },
  {
   "cell_type": "code",
   "execution_count": 15,
   "id": "331e3a36",
   "metadata": {
    "execution": {
     "iopub.execute_input": "2024-12-05T12:32:44.142119Z",
     "iopub.status.busy": "2024-12-05T12:32:44.141743Z",
     "iopub.status.idle": "2024-12-05T12:32:44.146508Z",
     "shell.execute_reply": "2024-12-05T12:32:44.145483Z"
    },
    "papermill": {
     "duration": 0.017076,
     "end_time": "2024-12-05T12:32:44.148770",
     "exception": false,
     "start_time": "2024-12-05T12:32:44.131694",
     "status": "completed"
    },
    "tags": []
   },
   "outputs": [],
   "source": [
    "NUM_PIXELS=2304\n",
    "IMG_HEIGHT=48\n",
    "IMG_WIDTH=48"
   ]
  },
  {
   "cell_type": "code",
   "execution_count": 16,
   "id": "3836f599",
   "metadata": {
    "execution": {
     "iopub.execute_input": "2024-12-05T12:32:44.168587Z",
     "iopub.status.busy": "2024-12-05T12:32:44.168187Z",
     "iopub.status.idle": "2024-12-05T12:32:44.178789Z",
     "shell.execute_reply": "2024-12-05T12:32:44.177554Z"
    },
    "papermill": {
     "duration": 0.023371,
     "end_time": "2024-12-05T12:32:44.181361",
     "exception": false,
     "start_time": "2024-12-05T12:32:44.157990",
     "status": "completed"
    },
    "tags": []
   },
   "outputs": [],
   "source": [
    "df['age'] = pd.qcut(df['age'], q=4, labels=[0, 1, 2, 3])"
   ]
  },
  {
   "cell_type": "code",
   "execution_count": 17,
   "id": "8b81f7e8",
   "metadata": {
    "execution": {
     "iopub.execute_input": "2024-12-05T12:32:44.200736Z",
     "iopub.status.busy": "2024-12-05T12:32:44.200235Z",
     "iopub.status.idle": "2024-12-05T12:32:44.210996Z",
     "shell.execute_reply": "2024-12-05T12:32:44.209870Z"
    },
    "papermill": {
     "duration": 0.022978,
     "end_time": "2024-12-05T12:32:44.213309",
     "exception": false,
     "start_time": "2024-12-05T12:32:44.190331",
     "status": "completed"
    },
    "tags": []
   },
   "outputs": [
    {
     "data": {
      "text/plain": [
       "age\n",
       "2    6157\n",
       "0    6044\n",
       "1    5893\n",
       "3    5611\n",
       "Name: count, dtype: int64"
      ]
     },
     "execution_count": 17,
     "metadata": {},
     "output_type": "execute_result"
    }
   ],
   "source": [
    "df.age.value_counts()"
   ]
  },
  {
   "cell_type": "code",
   "execution_count": 18,
   "id": "81d58449",
   "metadata": {
    "execution": {
     "iopub.execute_input": "2024-12-05T12:32:44.232893Z",
     "iopub.status.busy": "2024-12-05T12:32:44.232495Z",
     "iopub.status.idle": "2024-12-05T12:32:44.238878Z",
     "shell.execute_reply": "2024-12-05T12:32:44.237791Z"
    },
    "papermill": {
     "duration": 0.0185,
     "end_time": "2024-12-05T12:32:44.240945",
     "exception": false,
     "start_time": "2024-12-05T12:32:44.222445",
     "status": "completed"
    },
    "tags": []
   },
   "outputs": [],
   "source": [
    "y=df[['ethnicity','gender','age']]"
   ]
  },
  {
   "cell_type": "code",
   "execution_count": 19,
   "id": "3b0902e1",
   "metadata": {
    "execution": {
     "iopub.execute_input": "2024-12-05T12:32:44.260509Z",
     "iopub.status.busy": "2024-12-05T12:32:44.260126Z",
     "iopub.status.idle": "2024-12-05T12:32:44.272620Z",
     "shell.execute_reply": "2024-12-05T12:32:44.271561Z"
    },
    "papermill": {
     "duration": 0.024998,
     "end_time": "2024-12-05T12:32:44.274898",
     "exception": false,
     "start_time": "2024-12-05T12:32:44.249900",
     "status": "completed"
    },
    "tags": []
   },
   "outputs": [
    {
     "data": {
      "text/html": [
       "<div>\n",
       "<style scoped>\n",
       "    .dataframe tbody tr th:only-of-type {\n",
       "        vertical-align: middle;\n",
       "    }\n",
       "\n",
       "    .dataframe tbody tr th {\n",
       "        vertical-align: top;\n",
       "    }\n",
       "\n",
       "    .dataframe thead th {\n",
       "        text-align: right;\n",
       "    }\n",
       "</style>\n",
       "<table border=\"1\" class=\"dataframe\">\n",
       "  <thead>\n",
       "    <tr style=\"text-align: right;\">\n",
       "      <th></th>\n",
       "      <th>ethnicity</th>\n",
       "      <th>gender</th>\n",
       "      <th>age</th>\n",
       "    </tr>\n",
       "  </thead>\n",
       "  <tbody>\n",
       "    <tr>\n",
       "      <th>0</th>\n",
       "      <td>2</td>\n",
       "      <td>0</td>\n",
       "      <td>0</td>\n",
       "    </tr>\n",
       "    <tr>\n",
       "      <th>1</th>\n",
       "      <td>2</td>\n",
       "      <td>0</td>\n",
       "      <td>0</td>\n",
       "    </tr>\n",
       "    <tr>\n",
       "      <th>2</th>\n",
       "      <td>2</td>\n",
       "      <td>0</td>\n",
       "      <td>0</td>\n",
       "    </tr>\n",
       "    <tr>\n",
       "      <th>3</th>\n",
       "      <td>2</td>\n",
       "      <td>0</td>\n",
       "      <td>0</td>\n",
       "    </tr>\n",
       "    <tr>\n",
       "      <th>4</th>\n",
       "      <td>2</td>\n",
       "      <td>0</td>\n",
       "      <td>0</td>\n",
       "    </tr>\n",
       "    <tr>\n",
       "      <th>...</th>\n",
       "      <td>...</td>\n",
       "      <td>...</td>\n",
       "      <td>...</td>\n",
       "    </tr>\n",
       "    <tr>\n",
       "      <th>23700</th>\n",
       "      <td>0</td>\n",
       "      <td>1</td>\n",
       "      <td>3</td>\n",
       "    </tr>\n",
       "    <tr>\n",
       "      <th>23701</th>\n",
       "      <td>1</td>\n",
       "      <td>1</td>\n",
       "      <td>3</td>\n",
       "    </tr>\n",
       "    <tr>\n",
       "      <th>23702</th>\n",
       "      <td>2</td>\n",
       "      <td>1</td>\n",
       "      <td>3</td>\n",
       "    </tr>\n",
       "    <tr>\n",
       "      <th>23703</th>\n",
       "      <td>2</td>\n",
       "      <td>1</td>\n",
       "      <td>3</td>\n",
       "    </tr>\n",
       "    <tr>\n",
       "      <th>23704</th>\n",
       "      <td>0</td>\n",
       "      <td>1</td>\n",
       "      <td>3</td>\n",
       "    </tr>\n",
       "  </tbody>\n",
       "</table>\n",
       "<p>23705 rows × 3 columns</p>\n",
       "</div>"
      ],
      "text/plain": [
       "       ethnicity  gender age\n",
       "0              2       0   0\n",
       "1              2       0   0\n",
       "2              2       0   0\n",
       "3              2       0   0\n",
       "4              2       0   0\n",
       "...          ...     ...  ..\n",
       "23700          0       1   3\n",
       "23701          1       1   3\n",
       "23702          2       1   3\n",
       "23703          2       1   3\n",
       "23704          0       1   3\n",
       "\n",
       "[23705 rows x 3 columns]"
      ]
     },
     "execution_count": 19,
     "metadata": {},
     "output_type": "execute_result"
    }
   ],
   "source": [
    "y"
   ]
  },
  {
   "cell_type": "code",
   "execution_count": 20,
   "id": "94a70d7d",
   "metadata": {
    "execution": {
     "iopub.execute_input": "2024-12-05T12:32:44.294939Z",
     "iopub.status.busy": "2024-12-05T12:32:44.294523Z",
     "iopub.status.idle": "2024-12-05T12:32:44.302169Z",
     "shell.execute_reply": "2024-12-05T12:32:44.301059Z"
    },
    "papermill": {
     "duration": 0.020134,
     "end_time": "2024-12-05T12:32:44.304425",
     "exception": false,
     "start_time": "2024-12-05T12:32:44.284291",
     "status": "completed"
    },
    "tags": []
   },
   "outputs": [],
   "source": [
    "X=df.drop(columns=['ethnicity','gender','age'],axis=1)"
   ]
  },
  {
   "cell_type": "code",
   "execution_count": 21,
   "id": "c3f6f42d",
   "metadata": {
    "execution": {
     "iopub.execute_input": "2024-12-05T12:32:44.324196Z",
     "iopub.status.busy": "2024-12-05T12:32:44.323786Z",
     "iopub.status.idle": "2024-12-05T12:32:44.334788Z",
     "shell.execute_reply": "2024-12-05T12:32:44.333721Z"
    },
    "papermill": {
     "duration": 0.023314,
     "end_time": "2024-12-05T12:32:44.336945",
     "exception": false,
     "start_time": "2024-12-05T12:32:44.313631",
     "status": "completed"
    },
    "tags": []
   },
   "outputs": [
    {
     "data": {
      "text/html": [
       "<div>\n",
       "<style scoped>\n",
       "    .dataframe tbody tr th:only-of-type {\n",
       "        vertical-align: middle;\n",
       "    }\n",
       "\n",
       "    .dataframe tbody tr th {\n",
       "        vertical-align: top;\n",
       "    }\n",
       "\n",
       "    .dataframe thead th {\n",
       "        text-align: right;\n",
       "    }\n",
       "</style>\n",
       "<table border=\"1\" class=\"dataframe\">\n",
       "  <thead>\n",
       "    <tr style=\"text-align: right;\">\n",
       "      <th></th>\n",
       "      <th>pixels</th>\n",
       "    </tr>\n",
       "  </thead>\n",
       "  <tbody>\n",
       "    <tr>\n",
       "      <th>0</th>\n",
       "      <td>129 128 128 126 127 130 133 135 139 142 145 14...</td>\n",
       "    </tr>\n",
       "    <tr>\n",
       "      <th>1</th>\n",
       "      <td>164 74 111 168 169 171 175 182 184 188 193 199...</td>\n",
       "    </tr>\n",
       "    <tr>\n",
       "      <th>2</th>\n",
       "      <td>67 70 71 70 69 67 70 79 90 103 116 132 145 155...</td>\n",
       "    </tr>\n",
       "    <tr>\n",
       "      <th>3</th>\n",
       "      <td>193 197 198 200 199 200 202 203 204 205 208 21...</td>\n",
       "    </tr>\n",
       "    <tr>\n",
       "      <th>4</th>\n",
       "      <td>202 205 209 210 209 209 210 211 212 214 218 21...</td>\n",
       "    </tr>\n",
       "    <tr>\n",
       "      <th>...</th>\n",
       "      <td>...</td>\n",
       "    </tr>\n",
       "    <tr>\n",
       "      <th>23700</th>\n",
       "      <td>127 100 94 81 77 77 74 99 102 98 128 145 160 1...</td>\n",
       "    </tr>\n",
       "    <tr>\n",
       "      <th>23701</th>\n",
       "      <td>23 28 32 35 42 47 68 85 98 103 113 117 130 129...</td>\n",
       "    </tr>\n",
       "    <tr>\n",
       "      <th>23702</th>\n",
       "      <td>59 50 37 40 34 19 30 101 156 170 177 184 187 1...</td>\n",
       "    </tr>\n",
       "    <tr>\n",
       "      <th>23703</th>\n",
       "      <td>45 108 120 156 206 197 140 180 191 199 204 207...</td>\n",
       "    </tr>\n",
       "    <tr>\n",
       "      <th>23704</th>\n",
       "      <td>156 161 160 165 170 173 166 177 183 191 187 18...</td>\n",
       "    </tr>\n",
       "  </tbody>\n",
       "</table>\n",
       "<p>23705 rows × 1 columns</p>\n",
       "</div>"
      ],
      "text/plain": [
       "                                                  pixels\n",
       "0      129 128 128 126 127 130 133 135 139 142 145 14...\n",
       "1      164 74 111 168 169 171 175 182 184 188 193 199...\n",
       "2      67 70 71 70 69 67 70 79 90 103 116 132 145 155...\n",
       "3      193 197 198 200 199 200 202 203 204 205 208 21...\n",
       "4      202 205 209 210 209 209 210 211 212 214 218 21...\n",
       "...                                                  ...\n",
       "23700  127 100 94 81 77 77 74 99 102 98 128 145 160 1...\n",
       "23701  23 28 32 35 42 47 68 85 98 103 113 117 130 129...\n",
       "23702  59 50 37 40 34 19 30 101 156 170 177 184 187 1...\n",
       "23703  45 108 120 156 206 197 140 180 191 199 204 207...\n",
       "23704  156 161 160 165 170 173 166 177 183 191 187 18...\n",
       "\n",
       "[23705 rows x 1 columns]"
      ]
     },
     "execution_count": 21,
     "metadata": {},
     "output_type": "execute_result"
    }
   ],
   "source": [
    "X"
   ]
  },
  {
   "cell_type": "code",
   "execution_count": 22,
   "id": "5b291c07",
   "metadata": {
    "execution": {
     "iopub.execute_input": "2024-12-05T12:32:44.357232Z",
     "iopub.status.busy": "2024-12-05T12:32:44.356806Z",
     "iopub.status.idle": "2024-12-05T12:33:04.736145Z",
     "shell.execute_reply": "2024-12-05T12:33:04.734921Z"
    },
    "papermill": {
     "duration": 20.392217,
     "end_time": "2024-12-05T12:33:04.738645",
     "exception": false,
     "start_time": "2024-12-05T12:32:44.346428",
     "status": "completed"
    },
    "tags": []
   },
   "outputs": [
    {
     "data": {
      "text/plain": [
       "(23705, 48, 48)"
      ]
     },
     "execution_count": 22,
     "metadata": {},
     "output_type": "execute_result"
    }
   ],
   "source": [
    "X = pd.Series(X['pixels'])\n",
    "X = X.apply(lambda x: x.split(' '))\n",
    "X = X.apply(lambda x: np.array(list(map(lambda z: int(z), x))))\n",
    "X = np.array(X)\n",
    "X = np.stack(np.array(X), axis=0)\n",
    "X = np.reshape(X, (-1, 48, 48))\n",
    "\n",
    "X.shape"
   ]
  },
  {
   "cell_type": "code",
   "execution_count": 23,
   "id": "b3c99bbb",
   "metadata": {
    "execution": {
     "iopub.execute_input": "2024-12-05T12:33:04.759837Z",
     "iopub.status.busy": "2024-12-05T12:33:04.759439Z",
     "iopub.status.idle": "2024-12-05T12:33:04.767654Z",
     "shell.execute_reply": "2024-12-05T12:33:04.766248Z"
    },
    "papermill": {
     "duration": 0.021107,
     "end_time": "2024-12-05T12:33:04.770121",
     "exception": false,
     "start_time": "2024-12-05T12:33:04.749014",
     "status": "completed"
    },
    "tags": []
   },
   "outputs": [
    {
     "data": {
      "text/plain": [
       "array([[[129, 128, 128, ..., 118,  99,  53],\n",
       "        [130, 129, 128, ..., 117,  98,  52],\n",
       "        [131, 129, 130, ..., 114,  97,  50],\n",
       "        ...,\n",
       "        [121, 138, 147, ..., 151, 150, 148],\n",
       "        [117, 137, 146, ..., 149, 148, 148],\n",
       "        [115, 135, 142, ..., 146, 146, 146]],\n",
       "\n",
       "       [[164,  74, 111, ..., 111, 111, 104],\n",
       "        [179,  70, 128, ..., 112, 113, 108],\n",
       "        [176,  71, 146, ..., 112, 112, 109],\n",
       "        ...,\n",
       "        [192, 196, 235, ..., 111, 124, 112],\n",
       "        [230, 226, 233, ..., 198, 197, 180],\n",
       "        [238, 239, 233, ..., 182, 170, 148]],\n",
       "\n",
       "       [[ 67,  70,  71, ..., 197, 194, 192],\n",
       "        [ 65,  66,  69, ..., 197, 194, 192],\n",
       "        [ 61,  63,  69, ..., 197, 194, 190],\n",
       "        ...,\n",
       "        [159, 157, 159, ..., 114, 105, 105],\n",
       "        [102, 114, 110, ..., 114, 110, 107],\n",
       "        [ 98,  97,  95, ..., 112, 111, 108]],\n",
       "\n",
       "       ...,\n",
       "\n",
       "       [[ 59,  50,  37, ..., 119, 113,  98],\n",
       "        [ 56,  48,  44, ..., 111, 115,  97],\n",
       "        [ 40,  32,  26, ..., 108, 117, 101],\n",
       "        ...,\n",
       "        [ 35,  55, 106, ...,  93,  61,  65],\n",
       "        [ 41,  40,  71, ..., 104,  66,  71],\n",
       "        [ 47,  35,  45, ...,  98,  78,  78]],\n",
       "\n",
       "       [[ 45, 108, 120, ...,  31,  36,  53],\n",
       "        [ 73,  94, 140, ...,  29,  30,  45],\n",
       "        [ 88, 111, 160, ...,  28,  12,  33],\n",
       "        ...,\n",
       "        [  6,   2,  10, ...,   8,  14,  34],\n",
       "        [  2,   4,  52, ...,  16,  51,  41],\n",
       "        [  1,  36,  70, ...,  32,  35,  35]],\n",
       "\n",
       "       [[156, 161, 160, ..., 149, 143, 146],\n",
       "        [153, 145, 164, ..., 147, 138, 132],\n",
       "        [148, 145, 159, ..., 149, 140, 142],\n",
       "        ...,\n",
       "        [204, 219, 222, ..., 189, 184, 172],\n",
       "        [213, 210, 223, ..., 195, 191, 168],\n",
       "        [212, 218, 222, ..., 190, 184, 174]]])"
      ]
     },
     "execution_count": 23,
     "metadata": {},
     "output_type": "execute_result"
    }
   ],
   "source": [
    "X"
   ]
  },
  {
   "cell_type": "code",
   "execution_count": 24,
   "id": "cbda2243",
   "metadata": {
    "execution": {
     "iopub.execute_input": "2024-12-05T12:33:04.790788Z",
     "iopub.status.busy": "2024-12-05T12:33:04.790428Z",
     "iopub.status.idle": "2024-12-05T12:33:05.090861Z",
     "shell.execute_reply": "2024-12-05T12:33:05.089330Z"
    },
    "papermill": {
     "duration": 0.316493,
     "end_time": "2024-12-05T12:33:05.096377",
     "exception": false,
     "start_time": "2024-12-05T12:33:04.779884",
     "status": "completed"
    },
    "tags": []
   },
   "outputs": [
    {
     "data": {
      "image/png": "[encoded data removed]",
      "text/plain": [
       "<Figure size 1000x1000 with 9 Axes>"
      ]
     },
     "metadata": {},
     "output_type": "display_data"
    }
   ],
   "source": [
    "plt.figure(figsize=(10, 10))\n",
    "for index,image in enumerate(np.random.randint(0, 1000, 9)):\n",
    "    plt.subplot(3,3,index+1)\n",
    "    plt.imshow(X[image])\n",
    "    plt.axis('off')\n",
    "\n",
    "plt.show()"
   ]
  },
  {
   "cell_type": "code",
   "execution_count": 25,
   "id": "9032a11b",
   "metadata": {
    "execution": {
     "iopub.execute_input": "2024-12-05T12:33:05.141606Z",
     "iopub.status.busy": "2024-12-05T12:33:05.141194Z",
     "iopub.status.idle": "2024-12-05T12:33:05.147729Z",
     "shell.execute_reply": "2024-12-05T12:33:05.146860Z"
    },
    "papermill": {
     "duration": 0.023206,
     "end_time": "2024-12-05T12:33:05.150046",
     "exception": false,
     "start_time": "2024-12-05T12:33:05.126840",
     "status": "completed"
    },
    "tags": []
   },
   "outputs": [],
   "source": [
    "y_gender =np.array(y['gender'])\n",
    "y_ethnicity =np.array(y['ethnicity'])\n",
    "y_age = np.array(y['age'])"
   ]
  },
  {
   "cell_type": "code",
   "execution_count": 26,
   "id": "c7dc09a4",
   "metadata": {
    "execution": {
     "iopub.execute_input": "2024-12-05T12:33:05.173839Z",
     "iopub.status.busy": "2024-12-05T12:33:05.173395Z",
     "iopub.status.idle": "2024-12-05T12:33:05.180111Z",
     "shell.execute_reply": "2024-12-05T12:33:05.179049Z"
    },
    "papermill": {
     "duration": 0.021021,
     "end_time": "2024-12-05T12:33:05.182117",
     "exception": false,
     "start_time": "2024-12-05T12:33:05.161096",
     "status": "completed"
    },
    "tags": []
   },
   "outputs": [
    {
     "data": {
      "text/plain": [
       "(23705,)"
      ]
     },
     "execution_count": 26,
     "metadata": {},
     "output_type": "execute_result"
    }
   ],
   "source": [
    "y_gender.shape"
   ]
  },
  {
   "cell_type": "code",
   "execution_count": 27,
   "id": "bc0d355e",
   "metadata": {
    "execution": {
     "iopub.execute_input": "2024-12-05T12:33:05.206249Z",
     "iopub.status.busy": "2024-12-05T12:33:05.205855Z",
     "iopub.status.idle": "2024-12-05T12:33:05.253385Z",
     "shell.execute_reply": "2024-12-05T12:33:05.252205Z"
    },
    "papermill": {
     "duration": 0.062114,
     "end_time": "2024-12-05T12:33:05.255565",
     "exception": false,
     "start_time": "2024-12-05T12:33:05.193451",
     "status": "completed"
    },
    "tags": []
   },
   "outputs": [
    {
     "data": {
      "text/plain": [
       "255"
      ]
     },
     "execution_count": 27,
     "metadata": {},
     "output_type": "execute_result"
    }
   ],
   "source": [
    "X.max()"
   ]
  },
  {
   "cell_type": "code",
   "execution_count": 28,
   "id": "76aaa0f9",
   "metadata": {
    "execution": {
     "iopub.execute_input": "2024-12-05T12:33:05.279597Z",
     "iopub.status.busy": "2024-12-05T12:33:05.278655Z",
     "iopub.status.idle": "2024-12-05T12:33:05.483806Z",
     "shell.execute_reply": "2024-12-05T12:33:05.482687Z"
    },
    "papermill": {
     "duration": 0.219648,
     "end_time": "2024-12-05T12:33:05.486295",
     "exception": false,
     "start_time": "2024-12-05T12:33:05.266647",
     "status": "completed"
    },
    "tags": []
   },
   "outputs": [],
   "source": [
    "X=X/255.0"
   ]
  },
  {
   "cell_type": "code",
   "execution_count": 29,
   "id": "502be6de",
   "metadata": {
    "execution": {
     "iopub.execute_input": "2024-12-05T12:33:05.510274Z",
     "iopub.status.busy": "2024-12-05T12:33:05.509894Z",
     "iopub.status.idle": "2024-12-05T12:33:05.560098Z",
     "shell.execute_reply": "2024-12-05T12:33:05.558992Z"
    },
    "papermill": {
     "duration": 0.064827,
     "end_time": "2024-12-05T12:33:05.562315",
     "exception": false,
     "start_time": "2024-12-05T12:33:05.497488",
     "status": "completed"
    },
    "tags": []
   },
   "outputs": [
    {
     "data": {
      "text/plain": [
       "1.0"
      ]
     },
     "execution_count": 29,
     "metadata": {},
     "output_type": "execute_result"
    }
   ],
   "source": [
    "X.max()"
   ]
  },
  {
   "cell_type": "code",
   "execution_count": 30,
   "id": "60aa6a5e",
   "metadata": {
    "execution": {
     "iopub.execute_input": "2024-12-05T12:33:05.586354Z",
     "iopub.status.busy": "2024-12-05T12:33:05.585975Z",
     "iopub.status.idle": "2024-12-05T12:33:05.636759Z",
     "shell.execute_reply": "2024-12-05T12:33:05.635527Z"
    },
    "papermill": {
     "duration": 0.065543,
     "end_time": "2024-12-05T12:33:05.639110",
     "exception": false,
     "start_time": "2024-12-05T12:33:05.573567",
     "status": "completed"
    },
    "tags": []
   },
   "outputs": [
    {
     "data": {
      "text/plain": [
       "0.0"
      ]
     },
     "execution_count": 30,
     "metadata": {},
     "output_type": "execute_result"
    }
   ],
   "source": [
    "X.min()"
   ]
  },
  {
   "cell_type": "code",
   "execution_count": 31,
   "id": "d3758ce5",
   "metadata": {
    "execution": {
     "iopub.execute_input": "2024-12-05T12:33:05.663303Z",
     "iopub.status.busy": "2024-12-05T12:33:05.662922Z",
     "iopub.status.idle": "2024-12-05T12:33:19.843202Z",
     "shell.execute_reply": "2024-12-05T12:33:19.841720Z"
    },
    "papermill": {
     "duration": 14.205493,
     "end_time": "2024-12-05T12:33:19.855894",
     "exception": false,
     "start_time": "2024-12-05T12:33:05.650401",
     "status": "completed"
    },
    "tags": []
   },
   "outputs": [
    {
     "data": {
      "text/html": [
       "<pre style=\"white-space:pre;overflow-x:auto;line-height:normal;font-family:Menlo,'DejaVu Sans Mono',consolas,'Courier New',monospace\"><span style=\"font-weight: bold\">Model: \"sequential\"</span>\n",
       "</pre>\n"
      ],
      "text/plain": [
       "\u001b[1mModel: \"sequential\"\u001b[0m\n"
      ]
     },
     "metadata": {},
     "output_type": "display_data"
    },
    {
     "data": {
      "text/html": [
       "<pre style=\"white-space:pre;overflow-x:auto;line-height:normal;font-family:Menlo,'DejaVu Sans Mono',consolas,'Courier New',monospace\">┏━━━━━━━━━━━━━━━━━━━━━━━━━━━━━━━━━┳━━━━━━━━━━━━━━━━━━━━━━━━┳━━━━━━━━━━━━━━━┓\n",
       "┃<span style=\"font-weight: bold\"> Layer (type)                    </span>┃<span style=\"font-weight: bold\"> Output Shape           </span>┃<span style=\"font-weight: bold\">       Param # </span>┃\n",
       "┡━━━━━━━━━━━━━━━━━━━━━━━━━━━━━━━━━╇━━━━━━━━━━━━━━━━━━━━━━━━╇━━━━━━━━━━━━━━━┩\n",
       "│ conv2d (<span style=\"color: #0087ff; text-decoration-color: #0087ff\">Conv2D</span>)                 │ (<span style=\"color: #00d7ff; text-decoration-color: #00d7ff\">None</span>, <span style=\"color: #00af00; text-decoration-color: #00af00\">46</span>, <span style=\"color: #00af00; text-decoration-color: #00af00\">46</span>, <span style=\"color: #00af00; text-decoration-color: #00af00\">32</span>)     │           <span style=\"color: #00af00; text-decoration-color: #00af00\">320</span> │\n",
       "├─────────────────────────────────┼────────────────────────┼───────────────┤\n",
       "│ max_pooling2d (<span style=\"color: #0087ff; text-decoration-color: #0087ff\">MaxPooling2D</span>)    │ (<span style=\"color: #00d7ff; text-decoration-color: #00d7ff\">None</span>, <span style=\"color: #00af00; text-decoration-color: #00af00\">23</span>, <span style=\"color: #00af00; text-decoration-color: #00af00\">23</span>, <span style=\"color: #00af00; text-decoration-color: #00af00\">32</span>)     │             <span style=\"color: #00af00; text-decoration-color: #00af00\">0</span> │\n",
       "├─────────────────────────────────┼────────────────────────┼───────────────┤\n",
       "│ conv2d_1 (<span style=\"color: #0087ff; text-decoration-color: #0087ff\">Conv2D</span>)               │ (<span style=\"color: #00d7ff; text-decoration-color: #00d7ff\">None</span>, <span style=\"color: #00af00; text-decoration-color: #00af00\">21</span>, <span style=\"color: #00af00; text-decoration-color: #00af00\">21</span>, <span style=\"color: #00af00; text-decoration-color: #00af00\">64</span>)     │        <span style=\"color: #00af00; text-decoration-color: #00af00\">18,496</span> │\n",
       "├─────────────────────────────────┼────────────────────────┼───────────────┤\n",
       "│ max_pooling2d_1 (<span style=\"color: #0087ff; text-decoration-color: #0087ff\">MaxPooling2D</span>)  │ (<span style=\"color: #00d7ff; text-decoration-color: #00d7ff\">None</span>, <span style=\"color: #00af00; text-decoration-color: #00af00\">10</span>, <span style=\"color: #00af00; text-decoration-color: #00af00\">10</span>, <span style=\"color: #00af00; text-decoration-color: #00af00\">64</span>)     │             <span style=\"color: #00af00; text-decoration-color: #00af00\">0</span> │\n",
       "├─────────────────────────────────┼────────────────────────┼───────────────┤\n",
       "│ flatten (<span style=\"color: #0087ff; text-decoration-color: #0087ff\">Flatten</span>)               │ (<span style=\"color: #00d7ff; text-decoration-color: #00d7ff\">None</span>, <span style=\"color: #00af00; text-decoration-color: #00af00\">6400</span>)           │             <span style=\"color: #00af00; text-decoration-color: #00af00\">0</span> │\n",
       "├─────────────────────────────────┼────────────────────────┼───────────────┤\n",
       "│ dense (<span style=\"color: #0087ff; text-decoration-color: #0087ff\">Dense</span>)                   │ (<span style=\"color: #00d7ff; text-decoration-color: #00d7ff\">None</span>, <span style=\"color: #00af00; text-decoration-color: #00af00\">128</span>)            │       <span style=\"color: #00af00; text-decoration-color: #00af00\">819,328</span> │\n",
       "├─────────────────────────────────┼────────────────────────┼───────────────┤\n",
       "│ dropout (<span style=\"color: #0087ff; text-decoration-color: #0087ff\">Dropout</span>)               │ (<span style=\"color: #00d7ff; text-decoration-color: #00d7ff\">None</span>, <span style=\"color: #00af00; text-decoration-color: #00af00\">128</span>)            │             <span style=\"color: #00af00; text-decoration-color: #00af00\">0</span> │\n",
       "├─────────────────────────────────┼────────────────────────┼───────────────┤\n",
       "│ dense_1 (<span style=\"color: #0087ff; text-decoration-color: #0087ff\">Dense</span>)                 │ (<span style=\"color: #00d7ff; text-decoration-color: #00d7ff\">None</span>, <span style=\"color: #00af00; text-decoration-color: #00af00\">4</span>)              │           <span style=\"color: #00af00; text-decoration-color: #00af00\">516</span> │\n",
       "└─────────────────────────────────┴────────────────────────┴───────────────┘\n",
       "</pre>\n"
      ],
      "text/plain": [
       "┏━━━━━━━━━━━━━━━━━━━━━━━━━━━━━━━━━┳━━━━━━━━━━━━━━━━━━━━━━━━┳━━━━━━━━━━━━━━━┓\n",
       "┃\u001b[1m \u001b[0m\u001b[1mLayer (type)                   \u001b[0m\u001b[1m \u001b[0m┃\u001b[1m \u001b[0m\u001b[1mOutput Shape          \u001b[0m\u001b[1m \u001b[0m┃\u001b[1m \u001b[0m\u001b[1m      Param #\u001b[0m\u001b[1m \u001b[0m┃\n",
       "┡━━━━━━━━━━━━━━━━━━━━━━━━━━━━━━━━━╇━━━━━━━━━━━━━━━━━━━━━━━━╇━━━━━━━━━━━━━━━┩\n",
       "│ conv2d (\u001b[38;5;33mConv2D\u001b[0m)                 │ (\u001b[38;5;45mNone\u001b[0m, \u001b[38;5;34m46\u001b[0m, \u001b[38;5;34m46\u001b[0m, \u001b[38;5;34m32\u001b[0m)     │           \u001b[38;5;34m320\u001b[0m │\n",
       "├─────────────────────────────────┼────────────────────────┼───────────────┤\n",
       "│ max_pooling2d (\u001b[38;5;33mMaxPooling2D\u001b[0m)    │ (\u001b[38;5;45mNone\u001b[0m, \u001b[38;5;34m23\u001b[0m, \u001b[38;5;34m23\u001b[0m, \u001b[38;5;34m32\u001b[0m)     │             \u001b[38;5;34m0\u001b[0m │\n",
       "├─────────────────────────────────┼────────────────────────┼───────────────┤\n",
       "│ conv2d_1 (\u001b[38;5;33mConv2D\u001b[0m)               │ (\u001b[38;5;45mNone\u001b[0m, \u001b[38;5;34m21\u001b[0m, \u001b[38;5;34m21\u001b[0m, \u001b[38;5;34m64\u001b[0m)     │        \u001b[38;5;34m18,496\u001b[0m │\n",
       "├─────────────────────────────────┼────────────────────────┼───────────────┤\n",
       "│ max_pooling2d_1 (\u001b[38;5;33mMaxPooling2D\u001b[0m)  │ (\u001b[38;5;45mNone\u001b[0m, \u001b[38;5;34m10\u001b[0m, \u001b[38;5;34m10\u001b[0m, \u001b[38;5;34m64\u001b[0m)     │             \u001b[38;5;34m0\u001b[0m │\n",
       "├─────────────────────────────────┼────────────────────────┼───────────────┤\n",
       "│ flatten (\u001b[38;5;33mFlatten\u001b[0m)               │ (\u001b[38;5;45mNone\u001b[0m, \u001b[38;5;34m6400\u001b[0m)           │             \u001b[38;5;34m0\u001b[0m │\n",
       "├─────────────────────────────────┼────────────────────────┼───────────────┤\n",
       "│ dense (\u001b[38;5;33mDense\u001b[0m)                   │ (\u001b[38;5;45mNone\u001b[0m, \u001b[38;5;34m128\u001b[0m)            │       \u001b[38;5;34m819,328\u001b[0m │\n",
       "├─────────────────────────────────┼────────────────────────┼───────────────┤\n",
       "│ dropout (\u001b[38;5;33mDropout\u001b[0m)               │ (\u001b[38;5;45mNone\u001b[0m, \u001b[38;5;34m128\u001b[0m)            │             \u001b[38;5;34m0\u001b[0m │\n",
       "├─────────────────────────────────┼────────────────────────┼───────────────┤\n",
       "│ dense_1 (\u001b[38;5;33mDense\u001b[0m)                 │ (\u001b[38;5;45mNone\u001b[0m, \u001b[38;5;34m4\u001b[0m)              │           \u001b[38;5;34m516\u001b[0m │\n",
       "└─────────────────────────────────┴────────────────────────┴───────────────┘\n"
      ]
     },
     "metadata": {},
     "output_type": "display_data"
    },
    {
     "data": {
      "text/html": [
       "<pre style=\"white-space:pre;overflow-x:auto;line-height:normal;font-family:Menlo,'DejaVu Sans Mono',consolas,'Courier New',monospace\"><span style=\"font-weight: bold\"> Total params: </span><span style=\"color: #00af00; text-decoration-color: #00af00\">838,660</span> (3.20 MB)\n",
       "</pre>\n"
      ],
      "text/plain": [
       "\u001b[1m Total params: \u001b[0m\u001b[38;5;34m838,660\u001b[0m (3.20 MB)\n"
      ]
     },
     "metadata": {},
     "output_type": "display_data"
    },
    {
     "data": {
      "text/html": [
       "<pre style=\"white-space:pre;overflow-x:auto;line-height:normal;font-family:Menlo,'DejaVu Sans Mono',consolas,'Courier New',monospace\"><span style=\"font-weight: bold\"> Trainable params: </span><span style=\"color: #00af00; text-decoration-color: #00af00\">838,660</span> (3.20 MB)\n",
       "</pre>\n"
      ],
      "text/plain": [
       "\u001b[1m Trainable params: \u001b[0m\u001b[38;5;34m838,660\u001b[0m (3.20 MB)\n"
      ]
     },
     "metadata": {},
     "output_type": "display_data"
    },
    {
     "data": {
      "text/html": [
       "<pre style=\"white-space:pre;overflow-x:auto;line-height:normal;font-family:Menlo,'DejaVu Sans Mono',consolas,'Courier New',monospace\"><span style=\"font-weight: bold\"> Non-trainable params: </span><span style=\"color: #00af00; text-decoration-color: #00af00\">0</span> (0.00 B)\n",
       "</pre>\n"
      ],
      "text/plain": [
       "\u001b[1m Non-trainable params: \u001b[0m\u001b[38;5;34m0\u001b[0m (0.00 B)\n"
      ]
     },
     "metadata": {},
     "output_type": "display_data"
    }
   ],
   "source": [
    "from tensorflow.keras.models import Sequential\n",
    "from tensorflow.keras.layers import Conv2D, MaxPooling2D, Flatten, Dense, Dropout\n",
    "from tensorflow.keras.utils import to_categorical\n",
    "\n",
    "# Reshape input data (add channel dimension for grayscale)\n",
    "X = X.reshape(-1, 48, 48, 1)\n",
    "\n",
    "# One-hot encode the labels\n",
    "y_gender = to_categorical(y_gender, num_classes=4)\n",
    "\n",
    "# Create the CNN model\n",
    "model = Sequential()\n",
    "\n",
    "# First convolutional layer\n",
    "model.add(Conv2D(filters=32, kernel_size=(3, 3), activation='relu', input_shape=(48, 48, 1)))\n",
    "model.add(MaxPooling2D(pool_size=(2, 2)))\n",
    "\n",
    "# Second convolutional layer\n",
    "model.add(Conv2D(filters=64, kernel_size=(3, 3), activation='relu'))\n",
    "model.add(MaxPooling2D(pool_size=(2, 2)))\n",
    "\n",
    "# Flatten the feature maps into a vector\n",
    "model.add(Flatten())\n",
    "\n",
    "# Fully connected layer\n",
    "model.add(Dense(128, activation='relu'))\n",
    "model.add(Dropout(0.5))  # Prevent overfitting\n",
    "\n",
    "# Output layer\n",
    "model.add(Dense(4, activation='softmax'))  # 4 classes\n",
    "\n",
    "# Compile the model\n",
    "model.compile(optimizer='adam',\n",
    "              loss='categorical_crossentropy',\n",
    "              metrics=['accuracy'])\n",
    "\n",
    "# Summary of the model\n",
    "model.summary()\n"
   ]
  },
  {
   "cell_type": "code",
   "execution_count": 32,
   "id": "bc85949b",
   "metadata": {
    "execution": {
     "iopub.execute_input": "2024-12-05T12:33:19.890028Z",
     "iopub.status.busy": "2024-12-05T12:33:19.889316Z",
     "iopub.status.idle": "2024-12-05T12:33:20.358431Z",
     "shell.execute_reply": "2024-12-05T12:33:20.357350Z"
    },
    "papermill": {
     "duration": 0.488572,
     "end_time": "2024-12-05T12:33:20.360942",
     "exception": false,
     "start_time": "2024-12-05T12:33:19.872370",
     "status": "completed"
    },
    "tags": []
   },
   "outputs": [],
   "source": [
    "from sklearn.model_selection import train_test_split\n",
    "X_train,X_test,y_train,y_test=train_test_split(X,y_gender,train_size=0.7)"
   ]
  },
  {
   "cell_type": "code",
   "execution_count": 33,
   "id": "5a58c523",
   "metadata": {
    "execution": {
     "iopub.execute_input": "2024-12-05T12:33:20.387760Z",
     "iopub.status.busy": "2024-12-05T12:33:20.387367Z",
     "iopub.status.idle": "2024-12-05T12:33:20.394404Z",
     "shell.execute_reply": "2024-12-05T12:33:20.393383Z"
    },
    "papermill": {
     "duration": 0.023008,
     "end_time": "2024-12-05T12:33:20.396475",
     "exception": false,
     "start_time": "2024-12-05T12:33:20.373467",
     "status": "completed"
    },
    "tags": []
   },
   "outputs": [
    {
     "data": {
      "text/plain": [
       "((16593, 48, 48, 1), (16593, 4))"
      ]
     },
     "execution_count": 33,
     "metadata": {},
     "output_type": "execute_result"
    }
   ],
   "source": [
    "X_train.shape,y_train.shape"
   ]
  },
  {
   "cell_type": "code",
   "execution_count": 34,
   "id": "c597af45",
   "metadata": {
    "execution": {
     "iopub.execute_input": "2024-12-05T12:33:20.422712Z",
     "iopub.status.busy": "2024-12-05T12:33:20.422300Z",
     "iopub.status.idle": "2024-12-05T12:33:20.429503Z",
     "shell.execute_reply": "2024-12-05T12:33:20.428363Z"
    },
    "papermill": {
     "duration": 0.022934,
     "end_time": "2024-12-05T12:33:20.431698",
     "exception": false,
     "start_time": "2024-12-05T12:33:20.408764",
     "status": "completed"
    },
    "tags": []
   },
   "outputs": [
    {
     "data": {
      "text/plain": [
       "((7112, 48, 48, 1), (7112, 4))"
      ]
     },
     "execution_count": 34,
     "metadata": {},
     "output_type": "execute_result"
    }
   ],
   "source": [
    "X_test.shape,y_test.shape"
   ]
  },
  {
   "cell_type": "code",
   "execution_count": 35,
   "id": "00e69aff",
   "metadata": {
    "execution": {
     "iopub.execute_input": "2024-12-05T12:33:20.457901Z",
     "iopub.status.busy": "2024-12-05T12:33:20.457447Z",
     "iopub.status.idle": "2024-12-05T12:39:43.618572Z",
     "shell.execute_reply": "2024-12-05T12:39:43.617436Z"
    },
    "papermill": {
     "duration": 383.177566,
     "end_time": "2024-12-05T12:39:43.621559",
     "exception": false,
     "start_time": "2024-12-05T12:33:20.443993",
     "status": "completed"
    },
    "tags": []
   },
   "outputs": [
    {
     "name": "stdout",
     "output_type": "stream",
     "text": [
      "Epoch 1/20\n",
      "\u001b[1m208/208\u001b[0m \u001b[32m━━━━━━━━━━━━━━━━━━━━\u001b[0m\u001b[37m\u001b[0m \u001b[1m21s\u001b[0m 94ms/step - accuracy: 0.6396 - loss: 0.6543 - val_accuracy: 0.8252 - val_loss: 0.3908\n",
      "Epoch 2/20\n",
      "\u001b[1m208/208\u001b[0m \u001b[32m━━━━━━━━━━━━━━━━━━━━\u001b[0m\u001b[37m\u001b[0m \u001b[1m19s\u001b[0m 91ms/step - accuracy: 0.8292 - loss: 0.3758 - val_accuracy: 0.8608 - val_loss: 0.3139\n",
      "Epoch 3/20\n",
      "\u001b[1m208/208\u001b[0m \u001b[32m━━━━━━━━━━━━━━━━━━━━\u001b[0m\u001b[37m\u001b[0m \u001b[1m19s\u001b[0m 92ms/step - accuracy: 0.8550 - loss: 0.3237 - val_accuracy: 0.8698 - val_loss: 0.2955\n",
      "Epoch 4/20\n",
      "\u001b[1m208/208\u001b[0m \u001b[32m━━━━━━━━━━━━━━━━━━━━\u001b[0m\u001b[37m\u001b[0m \u001b[1m19s\u001b[0m 90ms/step - accuracy: 0.8694 - loss: 0.2929 - val_accuracy: 0.8704 - val_loss: 0.2851\n",
      "Epoch 5/20\n",
      "\u001b[1m208/208\u001b[0m \u001b[32m━━━━━━━━━━━━━━━━━━━━\u001b[0m\u001b[37m\u001b[0m \u001b[1m19s\u001b[0m 93ms/step - accuracy: 0.8825 - loss: 0.2691 - val_accuracy: 0.8810 - val_loss: 0.2712\n",
      "Epoch 6/20\n",
      "\u001b[1m208/208\u001b[0m \u001b[32m━━━━━━━━━━━━━━━━━━━━\u001b[0m\u001b[37m\u001b[0m \u001b[1m19s\u001b[0m 89ms/step - accuracy: 0.8953 - loss: 0.2398 - val_accuracy: 0.8768 - val_loss: 0.2839\n",
      "Epoch 7/20\n",
      "\u001b[1m208/208\u001b[0m \u001b[32m━━━━━━━━━━━━━━━━━━━━\u001b[0m\u001b[37m\u001b[0m \u001b[1m19s\u001b[0m 93ms/step - accuracy: 0.9049 - loss: 0.2318 - val_accuracy: 0.8807 - val_loss: 0.2769\n",
      "Epoch 8/20\n",
      "\u001b[1m208/208\u001b[0m \u001b[32m━━━━━━━━━━━━━━━━━━━━\u001b[0m\u001b[37m\u001b[0m \u001b[1m19s\u001b[0m 93ms/step - accuracy: 0.9034 - loss: 0.2271 - val_accuracy: 0.8828 - val_loss: 0.2776\n",
      "Epoch 9/20\n",
      "\u001b[1m208/208\u001b[0m \u001b[32m━━━━━━━━━━━━━━━━━━━━\u001b[0m\u001b[37m\u001b[0m \u001b[1m19s\u001b[0m 90ms/step - accuracy: 0.9110 - loss: 0.2088 - val_accuracy: 0.8846 - val_loss: 0.2669\n",
      "Epoch 10/20\n",
      "\u001b[1m208/208\u001b[0m \u001b[32m━━━━━━━━━━━━━━━━━━━━\u001b[0m\u001b[37m\u001b[0m \u001b[1m19s\u001b[0m 93ms/step - accuracy: 0.9194 - loss: 0.1946 - val_accuracy: 0.8801 - val_loss: 0.2775\n",
      "Epoch 11/20\n",
      "\u001b[1m208/208\u001b[0m \u001b[32m━━━━━━━━━━━━━━━━━━━━\u001b[0m\u001b[37m\u001b[0m \u001b[1m19s\u001b[0m 89ms/step - accuracy: 0.9208 - loss: 0.1960 - val_accuracy: 0.8831 - val_loss: 0.2791\n",
      "Epoch 12/20\n",
      "\u001b[1m208/208\u001b[0m \u001b[32m━━━━━━━━━━━━━━━━━━━━\u001b[0m\u001b[37m\u001b[0m \u001b[1m19s\u001b[0m 92ms/step - accuracy: 0.9279 - loss: 0.1757 - val_accuracy: 0.8858 - val_loss: 0.2790\n",
      "Epoch 13/20\n",
      "\u001b[1m208/208\u001b[0m \u001b[32m━━━━━━━━━━━━━━━━━━━━\u001b[0m\u001b[37m\u001b[0m \u001b[1m19s\u001b[0m 92ms/step - accuracy: 0.9329 - loss: 0.1603 - val_accuracy: 0.8858 - val_loss: 0.2742\n",
      "Epoch 14/20\n",
      "\u001b[1m208/208\u001b[0m \u001b[32m━━━━━━━━━━━━━━━━━━━━\u001b[0m\u001b[37m\u001b[0m \u001b[1m19s\u001b[0m 89ms/step - accuracy: 0.9361 - loss: 0.1570 - val_accuracy: 0.8864 - val_loss: 0.2911\n",
      "Epoch 15/20\n",
      "\u001b[1m208/208\u001b[0m \u001b[32m━━━━━━━━━━━━━━━━━━━━\u001b[0m\u001b[37m\u001b[0m \u001b[1m19s\u001b[0m 93ms/step - accuracy: 0.9430 - loss: 0.1399 - val_accuracy: 0.8912 - val_loss: 0.2932\n",
      "Epoch 16/20\n",
      "\u001b[1m208/208\u001b[0m \u001b[32m━━━━━━━━━━━━━━━━━━━━\u001b[0m\u001b[37m\u001b[0m \u001b[1m19s\u001b[0m 90ms/step - accuracy: 0.9446 - loss: 0.1380 - val_accuracy: 0.8876 - val_loss: 0.3103\n",
      "Epoch 17/20\n",
      "\u001b[1m208/208\u001b[0m \u001b[32m━━━━━━━━━━━━━━━━━━━━\u001b[0m\u001b[37m\u001b[0m \u001b[1m19s\u001b[0m 92ms/step - accuracy: 0.9522 - loss: 0.1272 - val_accuracy: 0.8882 - val_loss: 0.3396\n",
      "Epoch 18/20\n",
      "\u001b[1m208/208\u001b[0m \u001b[32m━━━━━━━━━━━━━━━━━━━━\u001b[0m\u001b[37m\u001b[0m \u001b[1m19s\u001b[0m 90ms/step - accuracy: 0.9522 - loss: 0.1213 - val_accuracy: 0.8879 - val_loss: 0.3215\n",
      "Epoch 19/20\n",
      "\u001b[1m208/208\u001b[0m \u001b[32m━━━━━━━━━━━━━━━━━━━━\u001b[0m\u001b[37m\u001b[0m \u001b[1m19s\u001b[0m 93ms/step - accuracy: 0.9619 - loss: 0.1027 - val_accuracy: 0.8921 - val_loss: 0.3565\n",
      "Epoch 20/20\n",
      "\u001b[1m208/208\u001b[0m \u001b[32m━━━━━━━━━━━━━━━━━━━━\u001b[0m\u001b[37m\u001b[0m \u001b[1m20s\u001b[0m 94ms/step - accuracy: 0.9607 - loss: 0.1008 - val_accuracy: 0.8915 - val_loss: 0.3545\n"
     ]
    }
   ],
   "source": [
    "# Train the model\n",
    "history = model.fit(X_train, y_train, validation_split=0.2, epochs=20, batch_size=64, verbose=1)\n"
   ]
  },
  {
   "cell_type": "code",
   "execution_count": 36,
   "id": "9f583824",
   "metadata": {
    "execution": {
     "iopub.execute_input": "2024-12-05T12:39:44.179938Z",
     "iopub.status.busy": "2024-12-05T12:39:44.178727Z",
     "iopub.status.idle": "2024-12-05T12:39:47.365347Z",
     "shell.execute_reply": "2024-12-05T12:39:47.364092Z"
    },
    "papermill": {
     "duration": 3.436668,
     "end_time": "2024-12-05T12:39:47.367960",
     "exception": false,
     "start_time": "2024-12-05T12:39:43.931292",
     "status": "completed"
    },
    "tags": []
   },
   "outputs": [
    {
     "name": "stdout",
     "output_type": "stream",
     "text": [
      "\u001b[1m223/223\u001b[0m \u001b[32m━━━━━━━━━━━━━━━━━━━━\u001b[0m\u001b[37m\u001b[0m \u001b[1m3s\u001b[0m 13ms/step - accuracy: 0.8993 - loss: 0.3024\n",
      "Test Accuracy: 0.8965129256248474\n"
     ]
    }
   ],
   "source": [
    "# Evaluate the model\n",
    "test_loss, test_accuracy = model.evaluate(X_test, y_test, verbose=1)\n",
    "print(f\"Test Accuracy: {test_accuracy}\")\n"
   ]
  }
 ],
 "metadata": {
  "kaggle": {
   "accelerator": "none",
   "dataSources": [
    {
     "datasetId": 855240,
     "sourceId": 1458546,
     "sourceType": "datasetVersion"
    }
   ],
   "dockerImageVersionId": 30804,
   "isGpuEnabled": false,
   "isInternetEnabled": true,
   "language": "python",
   "sourceType": "notebook"
  },
  "kernelspec": {
   "display_name": "Python 3",
   "language": "python",
   "name": "python3"
  },
  "language_info": {
   "codemirror_mode": {
    "name": "ipython",
    "version": 3
   },
   "file_extension": ".py",
   "mimetype": "text/x-python",
   "name": "python",
   "nbconvert_exporter": "python",
   "pygments_lexer": "ipython3",
   "version": "3.10.14"
  },
  "papermill": {
   "default_parameters": {},
   "duration": 439.028148,
   "end_time": "2024-12-05T12:39:50.376621",
   "environment_variables": {},
   "exception": null,
   "input_path": "__notebook__.ipynb",
   "output_path": "__notebook__.ipynb",
   "parameters": {},
   "start_time": "2024-12-05T12:32:31.348473",
   "version": "2.6.0"
  }
 },
 "nbformat": 4,
 "nbformat_minor": 5
}
